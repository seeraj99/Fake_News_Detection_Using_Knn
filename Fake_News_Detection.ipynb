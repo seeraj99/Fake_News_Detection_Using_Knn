{
 "cells": [
  {
   "cell_type": "code",
   "execution_count": 1,
   "id": "86e0a8e1-feb6-4f8a-bf3f-b0eea53c3271",
   "metadata": {},
   "outputs": [],
   "source": [
    "#importing of libraries \n",
    "import pandas as pd\n",
    "import numpy as np\n",
    "import re\n",
    "import string\n",
    "import os\n",
    "import matplotlib.pyplot as plt\n",
    "from sklearn.model_selection import train_test_split\n",
    "from sklearn.feature_extraction.text import TfidfVectorizer\n",
    "from sklearn.neighbors import KNeighborsClassifier\n",
    "from sklearn.metrics import accuracy_score, classification_report"
   ]
  },
  {
   "cell_type": "code",
   "execution_count": 3,
   "id": "53077f70-edd0-4e68-8442-a081b2ecb8ba",
   "metadata": {},
   "outputs": [],
   "source": [
    "# Define dataset directory\n",
    "dataset_dir = \"fake_and_real_news.csv\"\n",
    "\n",
    "# Check if directory exists\n",
    "if not os.path.exists(dataset_dir):\n",
    "    raise FileNotFoundError(f\"Dataset directory not found: {dataset_dir}\")"
   ]
  },
  {
   "cell_type": "code",
   "execution_count": 6,
   "id": "0aece3c5-4ad8-455a-a997-d626ccc2ef32",
   "metadata": {},
   "outputs": [],
   "source": [
    "# Read all CSV files in the directory\n",
    "df = pd.read_csv(os.path.join(dataset_dir))"
   ]
  },
  {
   "cell_type": "code",
   "execution_count": 9,
   "id": "efeb8851-9d77-4de5-bf9d-d8e303d21298",
   "metadata": {},
   "outputs": [
    {
     "data": {
      "text/plain": [
       "9900"
      ]
     },
     "execution_count": 9,
     "metadata": {},
     "output_type": "execute_result"
    }
   ],
   "source": [
    "# total number of dataset\n",
    "len(df)"
   ]
  },
  {
   "cell_type": "code",
   "execution_count": 10,
   "id": "284638f6-3913-4e9c-aeab-56fb9dcdd4d6",
   "metadata": {},
   "outputs": [
    {
     "data": {
      "text/plain": [
       "(9900, 2)"
      ]
     },
     "execution_count": 10,
     "metadata": {},
     "output_type": "execute_result"
    }
   ],
   "source": [
    "# shape of dataset\n",
    "df.shape # data set has 9990 rows and two coulumns, i column for feature and one for label"
   ]
  },
  {
   "cell_type": "code",
   "execution_count": 21,
   "id": "9081bfe2-7068-4004-8f00-a91fcdac02dd",
   "metadata": {},
   "outputs": [
    {
     "data": {
      "text/plain": [
       "Index(['Text', 'label'], dtype='object')"
      ]
     },
     "execution_count": 21,
     "metadata": {},
     "output_type": "execute_result"
    }
   ],
   "source": [
    "#Name of columns \n",
    "columns = df.columns\n",
    "columns"
   ]
  },
  {
   "cell_type": "code",
   "execution_count": 53,
   "id": "a4eed583-333a-487b-943c-c9104ffb78ef",
   "metadata": {},
   "outputs": [
    {
     "data": {
      "text/plain": [
       "array(['Fake', 'Real'], dtype=object)"
      ]
     },
     "execution_count": 53,
     "metadata": {},
     "output_type": "execute_result"
    }
   ],
   "source": [
    "class_names = df['label'].unique()\n",
    "class_names"
   ]
  },
  {
   "cell_type": "code",
   "execution_count": 11,
   "id": "eb4730aa-8eca-406b-9297-a9a65b729478",
   "metadata": {},
   "outputs": [
    {
     "data": {
      "text/html": [
       "<div>\n",
       "<style scoped>\n",
       "    .dataframe tbody tr th:only-of-type {\n",
       "        vertical-align: middle;\n",
       "    }\n",
       "\n",
       "    .dataframe tbody tr th {\n",
       "        vertical-align: top;\n",
       "    }\n",
       "\n",
       "    .dataframe thead th {\n",
       "        text-align: right;\n",
       "    }\n",
       "</style>\n",
       "<table border=\"1\" class=\"dataframe\">\n",
       "  <thead>\n",
       "    <tr style=\"text-align: right;\">\n",
       "      <th></th>\n",
       "      <th>Text</th>\n",
       "      <th>label</th>\n",
       "    </tr>\n",
       "  </thead>\n",
       "  <tbody>\n",
       "    <tr>\n",
       "      <th>0</th>\n",
       "      <td>top trump surrogate brutally stabs him in the ...</td>\n",
       "      <td>Fake</td>\n",
       "    </tr>\n",
       "    <tr>\n",
       "      <th>1</th>\n",
       "      <td>us conservative leader optimistic of common gr...</td>\n",
       "      <td>Real</td>\n",
       "    </tr>\n",
       "    <tr>\n",
       "      <th>2</th>\n",
       "      <td>trump proposes us tax overhaul stirs concerns ...</td>\n",
       "      <td>Real</td>\n",
       "    </tr>\n",
       "    <tr>\n",
       "      <th>3</th>\n",
       "      <td>court forces ohio to allow millions of illegal...</td>\n",
       "      <td>Fake</td>\n",
       "    </tr>\n",
       "    <tr>\n",
       "      <th>4</th>\n",
       "      <td>democrats say trump agrees to work on immigrat...</td>\n",
       "      <td>Real</td>\n",
       "    </tr>\n",
       "    <tr>\n",
       "      <th>5</th>\n",
       "      <td>france says pressure needed to stop north kore...</td>\n",
       "      <td>Real</td>\n",
       "    </tr>\n",
       "    <tr>\n",
       "      <th>6</th>\n",
       "      <td>trump on twitter august  opioid crisis north k...</td>\n",
       "      <td>Real</td>\n",
       "    </tr>\n",
       "    <tr>\n",
       "      <th>7</th>\n",
       "      <td>busted trump supporter used poll watcher crede...</td>\n",
       "      <td>Fake</td>\n",
       "    </tr>\n",
       "    <tr>\n",
       "      <th>8</th>\n",
       "      <td>fatal niger operation sparks calls for public ...</td>\n",
       "      <td>Real</td>\n",
       "    </tr>\n",
       "    <tr>\n",
       "      <th>9</th>\n",
       "      <td>trump says he has great heart for immigrant dr...</td>\n",
       "      <td>Real</td>\n",
       "    </tr>\n",
       "  </tbody>\n",
       "</table>\n",
       "</div>"
      ],
      "text/plain": [
       "                                                Text label\n",
       "0  top trump surrogate brutally stabs him in the ...  Fake\n",
       "1  us conservative leader optimistic of common gr...  Real\n",
       "2  trump proposes us tax overhaul stirs concerns ...  Real\n",
       "3  court forces ohio to allow millions of illegal...  Fake\n",
       "4  democrats say trump agrees to work on immigrat...  Real\n",
       "5  france says pressure needed to stop north kore...  Real\n",
       "6  trump on twitter august  opioid crisis north k...  Real\n",
       "7  busted trump supporter used poll watcher crede...  Fake\n",
       "8  fatal niger operation sparks calls for public ...  Real\n",
       "9  trump says he has great heart for immigrant dr...  Real"
      ]
     },
     "execution_count": 11,
     "metadata": {},
     "output_type": "execute_result"
    }
   ],
   "source": [
    "df[:10]"
   ]
  },
  {
   "cell_type": "code",
   "execution_count": 13,
   "id": "06d439cf-4a1b-4dce-9404-47af658fc573",
   "metadata": {},
   "outputs": [
    {
     "data": {
      "text/plain": [
       "label\n",
       "Fake    5000\n",
       "Real    4900\n",
       "Name: count, dtype: int64"
      ]
     },
     "execution_count": 13,
     "metadata": {},
     "output_type": "execute_result"
    }
   ],
   "source": [
    "#Total number of fake and Real news dataset\n",
    "label_counts = df['label'].value_counts()\n",
    "label_counts"
   ]
  },
  {
   "cell_type": "code",
   "execution_count": 16,
   "id": "6b1d6189-f62d-49f5-a316-acbde22f999a",
   "metadata": {},
   "outputs": [
    {
     "data": {
      "image/png": "[encoded data removed]",
      "text/plain": [
       "<Figure size 600x400 with 1 Axes>"
      ]
     },
     "metadata": {},
     "output_type": "display_data"
    }
   ],
   "source": [
    "# Visualizing the count of Fake and Real News\n",
    "plt.figure(figsize=(6, 4))\n",
    "df['label'].value_counts().plot(kind='bar', color=['red', 'blue'])\n",
    "plt.title(\"Fake vs Real News Count\")\n",
    "plt.xlabel(\"News Type\")\n",
    "plt.ylabel(\"Count\")\n",
    "plt.xticks(rotation=0)\n",
    "plt.show()"
   ]
  },
  {
   "cell_type": "code",
   "execution_count": 7,
   "id": "f70ad2ed-614b-45e9-8472-4ae64cc5351c",
   "metadata": {},
   "outputs": [],
   "source": [
    "# Data Cleaning Function\n",
    "def preprocess_text(text):\n",
    "    text = str(text).lower()  # Convert to lowercase\n",
    "    text = re.sub(r'\\d+', '', text)  # Remove numbers\n",
    "    text = text.translate(str.maketrans('', '', string.punctuation))  # Remove punctuation\n",
    "    text = text.strip()  # Remove leading/trailing whitespace\n",
    "    return text"
   ]
  },
  {
   "cell_type": "code",
   "execution_count": 22,
   "id": "b0dd673a-dd3b-42d8-ab4a-3e5c0f852cc3",
   "metadata": {},
   "outputs": [
    {
     "data": {
      "text/plain": [
       "'top trump surrogate brutally stabs him in the back ‘he’s pathetic’ video it s looking as though republican presidential candidate donald trump is losing support even from within his own ranks you know things are getting bad when even your top surrogates start turning against you which is exactly what just happened on fox news when newt gingrich called trump  pathetic gingrich knows that trump needs to keep his focus on hillary clinton if he even remotely wants to have a chance at defeating her however trump has hurt feelings because many republicans don t support his sexual assault against women have turned against him including house speaker paul ryan rwi so that has made trump lash out as his own partygingrich said on fox news look first of all let me just say about trump who i admire and i ve tried to help as much as i can there s a big trump and a little trump the little trump is frankly pathetic i mean he s mad over not getting a phone call trump s referring to the fact that paul ryan didn t call to congratulate him after the debate probably because he didn t win despite what trump s ego tells himgingrich also added donald trump has one opponent her name is hillary clinton her name is not paul ryan it s not anybody else trump doesn t seem to realize that the person he should be mad at is himself because he truly is his own worst enemy this will ultimately lead to his defeat and he will have no one to blame but himselfwatch here via politicofeatured photo by joe raedlegetty images'"
      ]
     },
     "execution_count": 22,
     "metadata": {},
     "output_type": "execute_result"
    }
   ],
   "source": [
    "# Apply preprocessing\n",
    "df['Text'] = df['Text'].apply(preprocess_text)\n",
    "#checking our first news to see if the applied is working \n",
    "df['Text'][0]"
   ]
  },
  {
   "cell_type": "code",
   "execution_count": 25,
   "id": "8088724c-d67a-4c71-90fa-2e5a1f163b06",
   "metadata": {},
   "outputs": [
    {
     "data": {
      "text/plain": [
       "((7920,), (1980,))"
      ]
     },
     "execution_count": 25,
     "metadata": {},
     "output_type": "execute_result"
    }
   ],
   "source": [
    "# Split dataset into training and testing data\n",
    "X_train, X_test, y_train, y_test = train_test_split(df['Text'], df['label'], test_size=0.2, random_state=42)\n",
    "# checking the lenght of the test and train datasets \n",
    "X_train.shape, X_test.shape"
   ]
  },
  {
   "cell_type": "code",
   "execution_count": 42,
   "id": "bd59239f-b2c2-419b-93fe-3814a6c02229",
   "metadata": {},
   "outputs": [],
   "source": [
    "# Convert text into numerical format using TF-IDF\n",
    "vectorizer = TfidfVectorizer(stop_words='english', max_df=0.7)\n",
    "X_train_tfidf = vectorizer.fit_transform(X_train)\n",
    "X_test_tfidf = vectorizer.transform(X_test)"
   ]
  },
  {
   "cell_type": "code",
   "execution_count": 44,
   "id": "71560886-e3e3-40c2-ae48-ce1ab17b66ea",
   "metadata": {},
   "outputs": [
    {
     "name": "stdout",
     "output_type": "stream",
     "text": [
      "First 20 features: ['aa' 'aaa' 'aaaaackkk' 'aaaarrgh' 'aaf' 'aafter' 'aai' 'aaja' 'aalberts'\n",
      " 'aaldef' 'aaliyah' 'aalo' 'aaminus' 'aaplo' 'aaplus' 'aarghshelly'\n",
      " 'aaron' 'aaroncovfefe' 'aaronhunter' 'aaronkatersky']\n"
     ]
    }
   ],
   "source": [
    "# Get feature names (words in the vocabulary)\n",
    "feature_names = vectorizer.get_feature_names_out()\n",
    "print(\"First 20 features:\", feature_names[:20])"
   ]
  },
  {
   "cell_type": "code",
   "execution_count": 59,
   "id": "103149e1-ca3f-4632-920e-e20eb62efba7",
   "metadata": {},
   "outputs": [
    {
     "data": {
      "image/png": "[encoded data removed]",
      "text/plain": [
       "<Figure size 640x480 with 1 Axes>"
      ]
     },
     "metadata": {},
     "output_type": "display_data"
    }
   ],
   "source": [
    "# Get average TF-IDF per word\n",
    "avg_tfidf = np.asarray(X_train_tfidf.mean(axis=0)).flatten()\n",
    "\n",
    "# Top 20 words\n",
    "top_idx = avg_tfidf.argsort()[-20:][::-1]\n",
    "top_words = [feature_names[i] for i in top_idx]\n",
    "top_scores = avg_tfidf[top_idx]\n",
    "\n",
    "# Plot\n",
    "plt.barh(top_words, top_scores, color='skyblue')\n",
    "plt.title(\"Top 20 Words in Datase (Average TF-IDF)\")\n",
    "plt.xlabel(\"Average TF-IDF Score\")\n",
    "plt.gca().invert_yaxis()\n",
    "plt.show()"
   ]
  },
  {
   "cell_type": "code",
   "execution_count": 46,
   "id": "120be4c8-e388-4275-bba9-9122724facb6",
   "metadata": {},
   "outputs": [
    {
     "data": {
      "text/html": [
       "<style>#sk-container-id-1 {color: black;}#sk-container-id-1 pre{padding: 0;}#sk-container-id-1 div.sk-toggleable {background-color: white;}#sk-container-id-1 label.sk-toggleable__label {cursor: pointer;display: block;width: 100%;margin-bottom: 0;padding: 0.3em;box-sizing: border-box;text-align: center;}#sk-container-id-1 label.sk-toggleable__label-arrow:before {content: \"▸\";float: left;margin-right: 0.25em;color: #696969;}#sk-container-id-1 label.sk-toggleable__label-arrow:hover:before {color: black;}#sk-container-id-1 div.sk-estimator:hover label.sk-toggleable__label-arrow:before {color: black;}#sk-container-id-1 div.sk-toggleable__content {max-height: 0;max-width: 0;overflow: hidden;text-align: left;background-color: #f0f8ff;}#sk-container-id-1 div.sk-toggleable__content pre {margin: 0.2em;color: black;border-radius: 0.25em;background-color: #f0f8ff;}#sk-container-id-1 input.sk-toggleable__control:checked~div.sk-toggleable__content {max-height: 200px;max-width: 100%;overflow: auto;}#sk-container-id-1 input.sk-toggleable__control:checked~label.sk-toggleable__label-arrow:before {content: \"▾\";}#sk-container-id-1 div.sk-estimator input.sk-toggleable__control:checked~label.sk-toggleable__label {background-color: #d4ebff;}#sk-container-id-1 div.sk-label input.sk-toggleable__control:checked~label.sk-toggleable__label {background-color: #d4ebff;}#sk-container-id-1 input.sk-hidden--visually {border: 0;clip: rect(1px 1px 1px 1px);clip: rect(1px, 1px, 1px, 1px);height: 1px;margin: -1px;overflow: hidden;padding: 0;position: absolute;width: 1px;}#sk-container-id-1 div.sk-estimator {font-family: monospace;background-color: #f0f8ff;border: 1px dotted black;border-radius: 0.25em;box-sizing: border-box;margin-bottom: 0.5em;}#sk-container-id-1 div.sk-estimator:hover {background-color: #d4ebff;}#sk-container-id-1 div.sk-parallel-item::after {content: \"\";width: 100%;border-bottom: 1px solid gray;flex-grow: 1;}#sk-container-id-1 div.sk-label:hover label.sk-toggleable__label {background-color: #d4ebff;}#sk-container-id-1 div.sk-serial::before {content: \"\";position: absolute;border-left: 1px solid gray;box-sizing: border-box;top: 0;bottom: 0;left: 50%;z-index: 0;}#sk-container-id-1 div.sk-serial {display: flex;flex-direction: column;align-items: center;background-color: white;padding-right: 0.2em;padding-left: 0.2em;position: relative;}#sk-container-id-1 div.sk-item {position: relative;z-index: 1;}#sk-container-id-1 div.sk-parallel {display: flex;align-items: stretch;justify-content: center;background-color: white;position: relative;}#sk-container-id-1 div.sk-item::before, #sk-container-id-1 div.sk-parallel-item::before {content: \"\";position: absolute;border-left: 1px solid gray;box-sizing: border-box;top: 0;bottom: 0;left: 50%;z-index: -1;}#sk-container-id-1 div.sk-parallel-item {display: flex;flex-direction: column;z-index: 1;position: relative;background-color: white;}#sk-container-id-1 div.sk-parallel-item:first-child::after {align-self: flex-end;width: 50%;}#sk-container-id-1 div.sk-parallel-item:last-child::after {align-self: flex-start;width: 50%;}#sk-container-id-1 div.sk-parallel-item:only-child::after {width: 0;}#sk-container-id-1 div.sk-dashed-wrapped {border: 1px dashed gray;margin: 0 0.4em 0.5em 0.4em;box-sizing: border-box;padding-bottom: 0.4em;background-color: white;}#sk-container-id-1 div.sk-label label {font-family: monospace;font-weight: bold;display: inline-block;line-height: 1.2em;}#sk-container-id-1 div.sk-label-container {text-align: center;}#sk-container-id-1 div.sk-container {/* jupyter's `normalize.less` sets `[hidden] { display: none; }` but bootstrap.min.css set `[hidden] { display: none !important; }` so we also need the `!important` here to be able to override the default hidden behavior on the sphinx rendered scikit-learn.org. See: https://github.com/scikit-learn/scikit-learn/issues/21755 */display: inline-block !important;position: relative;}#sk-container-id-1 div.sk-text-repr-fallback {display: none;}</style><div id=\"sk-container-id-1\" class=\"sk-top-container\"><div class=\"sk-text-repr-fallback\"><pre>KNeighborsClassifier()</pre><b>In a Jupyter environment, please rerun this cell to show the HTML representation or trust the notebook. <br />On GitHub, the HTML representation is unable to render, please try loading this page with nbviewer.org.</b></div><div class=\"sk-container\" hidden><div class=\"sk-item\"><div class=\"sk-estimator sk-toggleable\"><input class=\"sk-toggleable__control sk-hidden--visually\" id=\"sk-estimator-id-1\" type=\"checkbox\" checked><label for=\"sk-estimator-id-1\" class=\"sk-toggleable__label sk-toggleable__label-arrow\">KNeighborsClassifier</label><div class=\"sk-toggleable__content\"><pre>KNeighborsClassifier()</pre></div></div></div></div></div>"
      ],
      "text/plain": [
       "KNeighborsClassifier()"
      ]
     },
     "execution_count": 46,
     "metadata": {},
     "output_type": "execute_result"
    }
   ],
   "source": [
    "# Train a KNN model\n",
    "knn_model = KNeighborsClassifier(n_neighbors=5)\n",
    "knn_model.fit(X_train_tfidf, y_train)"
   ]
  },
  {
   "cell_type": "code",
   "execution_count": 47,
   "id": "9594bf4d-288f-4cc3-afcf-35b25fc3aa07",
   "metadata": {},
   "outputs": [],
   "source": [
    "# Make predictions\n",
    "y_pred = knn_model.predict(X_test_tfidf)"
   ]
  },
  {
   "cell_type": "code",
   "execution_count": 48,
   "id": "d3a052d5-fce8-452c-a66a-fcbbb3aa75a6",
   "metadata": {},
   "outputs": [
    {
     "name": "stdout",
     "output_type": "stream",
     "text": [
      "Model Accuracy: 0.8358585858585859\n",
      "Classification Report:\n",
      "               precision    recall  f1-score   support\n",
      "\n",
      "        Fake       0.92      0.73      0.81       973\n",
      "        Real       0.78      0.94      0.85      1007\n",
      "\n",
      "    accuracy                           0.84      1980\n",
      "   macro avg       0.85      0.83      0.83      1980\n",
      "weighted avg       0.85      0.84      0.83      1980\n",
      "\n"
     ]
    }
   ],
   "source": [
    "# Evaluate the model on test data set\n",
    "accuracy = accuracy_score(y_test, y_pred)\n",
    "print(\"Model Accuracy:\", accuracy)\n",
    "print(\"Classification Report:\\n\", classification_report(y_test, y_pred))"
   ]
  },
  {
   "cell_type": "code",
   "execution_count": 54,
   "id": "52e128d9-e992-4734-81f1-320a1ecebc88",
   "metadata": {},
   "outputs": [
    {
     "data": {
      "image/png": "[encoded data removed]",
      "text/plain": [
       "<Figure size 800x600 with 2 Axes>"
      ]
     },
     "metadata": {},
     "output_type": "display_data"
    }
   ],
   "source": [
    "from sklearn.metrics import confusion_matrix\n",
    "\n",
    "cm = confusion_matrix(y_test, y_pred)\n",
    "\n",
    "import seaborn as sns\n",
    "\n",
    "plt.figure(figsize=(8, 6))\n",
    "sns.heatmap(cm, annot=True, fmt='d', cmap='Blues', \n",
    "            xticklabels=class_names, \n",
    "            yticklabels=class_names)\n",
    "plt.title('Confusion Matrix')\n",
    "plt.ylabel('True Label')\n",
    "plt.xlabel('Predicted Label')\n",
    "plt.show()"
   ]
  },
  {
   "cell_type": "code",
   "execution_count": 55,
   "id": "aa6745be-4e6f-4425-9be3-766b612748a6",
   "metadata": {},
   "outputs": [],
   "source": [
    "# Function to predict fake or real news\n",
    "def predict_news(news_text):\n",
    "    news_text = preprocess_text(news_text)\n",
    "    text_tfidf = vectorizer.transform([news_text])\n",
    "    prediction = knn_model.predict(text_tfidf)[0]\n",
    "    return \"Real News\" if prediction == \"Real\" else \"Fake News\""
   ]
  },
  {
   "cell_type": "code",
   "execution_count": 56,
   "id": "baa88921-e281-4006-8ce2-9ec56a0c5820",
   "metadata": {},
   "outputs": [
    {
     "name": "stdout",
     "output_type": "stream",
     "text": [
      "Prediction: Fake News\n"
     ]
    }
   ],
   "source": [
    "# Example usage\n",
    "news_example = \"The government has passed a new law to regulate social media.\"\n",
    "print(\"Prediction:\", predict_news(news_example))"
   ]
  },
  {
   "cell_type": "code",
   "execution_count": 58,
   "id": "faedbf5c-5130-4e80-88ed-2e96dc18a1fc",
   "metadata": {},
   "outputs": [],
   "source": [
    "#saving model\n",
    "import pickle\n",
    "\n",
    "# Save the model\n",
    "with open('knn_model.pkl', 'wb') as file:  # 'wb' = write binary\n",
    "    pickle.dump(knn_model, file)"
   ]
  },
  {
   "cell_type": "code",
   "execution_count": null,
   "id": "6e2f8cb1-78c8-43fb-98cf-2641e0ac40e4",
   "metadata": {},
   "outputs": [],
   "source": []
  }
 ],
 "metadata": {
  "kernelspec": {
   "display_name": "Python (tf_env)",
   "language": "python",
   "name": "tf_env"
  },
  "language_info": {
   "codemirror_mode": {
    "name": "ipython",
    "version": 3
   },
   "file_extension": ".py",
   "mimetype": "text/x-python",
   "name": "python",
   "nbconvert_exporter": "python",
   "pygments_lexer": "ipython3",
   "version": "3.8.20"
  }
 },
 "nbformat": 4,
 "nbformat_minor": 5
}
